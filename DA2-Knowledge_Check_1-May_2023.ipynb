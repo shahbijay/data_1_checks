{
 "cells": [
  {
   "cell_type": "markdown",
   "id": "245f8ba9",
   "metadata": {},
   "source": [
    "# DA2 Knowledge Check 1 - May 2023"
   ]
  },
  {
   "cell_type": "markdown",
   "id": "46bafb9a",
   "metadata": {},
   "source": [
    "## Your Instructions:\n",
    "### To complete the first knowledge check, do the following:\n",
    "\n",
    "1. Create a GitHub repo called \"data_1_checks\". You will upload ALL knowledge checks to this repo in the future.\n",
    "2. Send that link to your mentor so they can check it when you finish the assignment.\n",
    "3. Make a .py (or .ipynb) file that contains the following (your choice of editor does not matter!) and do the following:\n",
    "    - Pull in data from an API. Here's a list of public APIs that don't require Auth keys, though if you have another API you want to use feel free: https://apipheny.io/free-api/\n",
    "    - Find and print TWO descriptive statistics about your data. This can be absolutely anything, from the mean() or sum() of a column to the number of different categories, to the number of null values in a column. We just want to see two pieces of information.\n",
    "    - Write a query in Pandas to select a particular set of your data. You can use a mask or with .query(), but we want you to pull out a subset based on any parameter you like. This could be \"show me every row where HTTPS=False\" or anything else.\n",
    "    - Select and print the SECOND AND THIRD columns of your data frame.\n",
    "    - Select and print the FIRST 4 rows of you data frame.\n",
    "4. Commit your changes.\n",
    "5. Push your changes to your repo and notify your mentor!"
   ]
  },
  {
   "cell_type": "code",
   "execution_count": 1,
   "id": "425e032c",
   "metadata": {},
   "outputs": [],
   "source": [
    "# First import required libraries.\n",
    "\n",
    "import requests\n",
    "import pandas as pd "
   ]
  },
  {
   "cell_type": "markdown",
   "id": "3d215d97",
   "metadata": {},
   "source": [
    "### Pull Data From API."
   ]
  },
  {
   "cell_type": "code",
   "execution_count": 2,
   "id": "09cfc2a7",
   "metadata": {},
   "outputs": [
    {
     "name": "stdout",
     "output_type": "stream",
     "text": [
      "         country alpha_two_code                                   name  \\\n",
      "0  United States             US                    Marywood University   \n",
      "1  United States             US                  Lindenwood University   \n",
      "2  United States             US                    Sullivan University   \n",
      "3  United States             US  Florida State College at Jacksonville   \n",
      "4  United States             US                      Xavier University   \n",
      "\n",
      "  state-province           domains                     web_pages  \n",
      "0           None    [marywood.edu]     [http://www.marywood.edu]  \n",
      "1           None  [lindenwood.edu]  [http://www.lindenwood.edu/]  \n",
      "2           None    [sullivan.edu]       [https://sullivan.edu/]  \n",
      "3           None        [fscj.edu]       [https://www.fscj.edu/]  \n",
      "4           None      [xavier.edu]     [https://www.xavier.edu/]  \n"
     ]
    }
   ],
   "source": [
    "# Pull in data from an API.\n",
    "url = \"http://universities.hipolabs.com/search?country=United+States\"\n",
    "response = requests.get(url)\n",
    "data = response.json()\n",
    "df = pd.DataFrame(data)\n",
    "\n",
    "# Print the first few rows of the DataFrame\n",
    "print (df.head())\n"
   ]
  },
  {
   "cell_type": "markdown",
   "id": "338940de",
   "metadata": {},
   "source": [
    "### Find and print TWO descriptive statistics about your data. This can be absolutely anything, from the mean() or sum() of a column to the number of different categories, to the number of null values in a column. We just want to see two pieces of information."
   ]
  },
  {
   "cell_type": "code",
   "execution_count": 3,
   "id": "031b5b1f",
   "metadata": {},
   "outputs": [
    {
     "data": {
      "text/plain": [
       "(4566, 6)"
      ]
     },
     "execution_count": 3,
     "metadata": {},
     "output_type": "execute_result"
    }
   ],
   "source": [
    "# rows and columns in dataframe\n",
    "\n",
    "df.shape"
   ]
  },
  {
   "cell_type": "code",
   "execution_count": 4,
   "id": "76bb9fbf",
   "metadata": {},
   "outputs": [
    {
     "data": {
      "text/plain": [
       "country              0\n",
       "alpha_two_code       0\n",
       "name                 0\n",
       "state-province    4442\n",
       "domains              0\n",
       "web_pages            0\n",
       "dtype: int64"
      ]
     },
     "execution_count": 4,
     "metadata": {},
     "output_type": "execute_result"
    }
   ],
   "source": [
    "# check dataframe for null value. state-province has 4442 null values.\n",
    "\n",
    "df.isnull().sum()"
   ]
  },
  {
   "cell_type": "markdown",
   "id": "14e6219b",
   "metadata": {},
   "source": [
    "### Write a query in Pandas to select a particular set of your data. You can use a mask or with .query(), but we want you to pull out a subset based on any parameter you like. This could be \"show me every row where HTTPS=False\" or anything else."
   ]
  },
  {
   "cell_type": "code",
   "execution_count": 5,
   "id": "df9a67bd",
   "metadata": {},
   "outputs": [
    {
     "data": {
      "text/html": [
       "<div>\n",
       "<style scoped>\n",
       "    .dataframe tbody tr th:only-of-type {\n",
       "        vertical-align: middle;\n",
       "    }\n",
       "\n",
       "    .dataframe tbody tr th {\n",
       "        vertical-align: top;\n",
       "    }\n",
       "\n",
       "    .dataframe thead th {\n",
       "        text-align: right;\n",
       "    }\n",
       "</style>\n",
       "<table border=\"1\" class=\"dataframe\">\n",
       "  <thead>\n",
       "    <tr style=\"text-align: right;\">\n",
       "      <th></th>\n",
       "      <th>country</th>\n",
       "      <th>alpha_two_code</th>\n",
       "      <th>name</th>\n",
       "      <th>state-province</th>\n",
       "      <th>domains</th>\n",
       "      <th>web_pages</th>\n",
       "    </tr>\n",
       "  </thead>\n",
       "  <tbody>\n",
       "    <tr>\n",
       "      <th>14</th>\n",
       "      <td>United States</td>\n",
       "      <td>US</td>\n",
       "      <td>University of Pittsburgh Medical Center</td>\n",
       "      <td>Pennsylvania</td>\n",
       "      <td>[upmc.edu, upmc.com]</td>\n",
       "      <td>[https://www.upmc.com/]</td>\n",
       "    </tr>\n",
       "    <tr>\n",
       "      <th>99</th>\n",
       "      <td>United States</td>\n",
       "      <td>US</td>\n",
       "      <td>College of Southern Nevada</td>\n",
       "      <td>NV</td>\n",
       "      <td>[csn.edu]</td>\n",
       "      <td>[https://www.csn.edu/]</td>\n",
       "    </tr>\n",
       "    <tr>\n",
       "      <th>197</th>\n",
       "      <td>United States</td>\n",
       "      <td>US</td>\n",
       "      <td>Bloomsburg University of Pennsylvania</td>\n",
       "      <td>Pennsylvania</td>\n",
       "      <td>[bloomu.edu]</td>\n",
       "      <td>[http://www.bloomu.edu/]</td>\n",
       "    </tr>\n",
       "    <tr>\n",
       "      <th>243</th>\n",
       "      <td>United States</td>\n",
       "      <td>US</td>\n",
       "      <td>California University of Pennsylvania</td>\n",
       "      <td>Pennsylvania</td>\n",
       "      <td>[cup.edu]</td>\n",
       "      <td>[http://www.cup.edu/]</td>\n",
       "    </tr>\n",
       "    <tr>\n",
       "      <th>283</th>\n",
       "      <td>United States</td>\n",
       "      <td>US</td>\n",
       "      <td>Clarion University of Pennsylvania</td>\n",
       "      <td>Pennsylvania</td>\n",
       "      <td>[clarion.edu]</td>\n",
       "      <td>[http://www.clarion.edu/]</td>\n",
       "    </tr>\n",
       "    <tr>\n",
       "      <th>...</th>\n",
       "      <td>...</td>\n",
       "      <td>...</td>\n",
       "      <td>...</td>\n",
       "      <td>...</td>\n",
       "      <td>...</td>\n",
       "      <td>...</td>\n",
       "    </tr>\n",
       "    <tr>\n",
       "      <th>4494</th>\n",
       "      <td>United States</td>\n",
       "      <td>US</td>\n",
       "      <td>Bellevue College</td>\n",
       "      <td>Washington</td>\n",
       "      <td>[bellevuecollege.edu]</td>\n",
       "      <td>[https://bellevuecollege.edu]</td>\n",
       "    </tr>\n",
       "    <tr>\n",
       "      <th>4495</th>\n",
       "      <td>United States</td>\n",
       "      <td>US</td>\n",
       "      <td>CUNY Lehman College</td>\n",
       "      <td>New York, NY</td>\n",
       "      <td>[lehman.cuny.edu]</td>\n",
       "      <td>[https://www.lehman.cuny.edu/]</td>\n",
       "    </tr>\n",
       "    <tr>\n",
       "      <th>4496</th>\n",
       "      <td>United States</td>\n",
       "      <td>US</td>\n",
       "      <td>CUNY John Jay College of Criminal Justice</td>\n",
       "      <td>New York, NY</td>\n",
       "      <td>[jjay.cuny.edu]</td>\n",
       "      <td>[https://www.jjay.cuny.edu/]</td>\n",
       "    </tr>\n",
       "    <tr>\n",
       "      <th>4497</th>\n",
       "      <td>United States</td>\n",
       "      <td>US</td>\n",
       "      <td>CUNY Hunter College</td>\n",
       "      <td>New York, NY</td>\n",
       "      <td>[hunter.cuny.edu]</td>\n",
       "      <td>[https://hunter.cuny.edu/]</td>\n",
       "    </tr>\n",
       "    <tr>\n",
       "      <th>4498</th>\n",
       "      <td>United States</td>\n",
       "      <td>US</td>\n",
       "      <td>CUNY York College</td>\n",
       "      <td>New York, NY</td>\n",
       "      <td>[york.cuny.edu]</td>\n",
       "      <td>[https://www.york.cuny.edu/]</td>\n",
       "    </tr>\n",
       "  </tbody>\n",
       "</table>\n",
       "<p>124 rows × 6 columns</p>\n",
       "</div>"
      ],
      "text/plain": [
       "            country alpha_two_code                                       name  \\\n",
       "14    United States             US    University of Pittsburgh Medical Center   \n",
       "99    United States             US                 College of Southern Nevada   \n",
       "197   United States             US      Bloomsburg University of Pennsylvania   \n",
       "243   United States             US      California University of Pennsylvania   \n",
       "283   United States             US         Clarion University of Pennsylvania   \n",
       "...             ...            ...                                        ...   \n",
       "4494  United States             US                           Bellevue College   \n",
       "4495  United States             US                        CUNY Lehman College   \n",
       "4496  United States             US  CUNY John Jay College of Criminal Justice   \n",
       "4497  United States             US                        CUNY Hunter College   \n",
       "4498  United States             US                          CUNY York College   \n",
       "\n",
       "     state-province                domains                       web_pages  \n",
       "14     Pennsylvania   [upmc.edu, upmc.com]         [https://www.upmc.com/]  \n",
       "99               NV              [csn.edu]          [https://www.csn.edu/]  \n",
       "197    Pennsylvania           [bloomu.edu]        [http://www.bloomu.edu/]  \n",
       "243    Pennsylvania              [cup.edu]           [http://www.cup.edu/]  \n",
       "283    Pennsylvania          [clarion.edu]       [http://www.clarion.edu/]  \n",
       "...             ...                    ...                             ...  \n",
       "4494     Washington  [bellevuecollege.edu]   [https://bellevuecollege.edu]  \n",
       "4495   New York, NY      [lehman.cuny.edu]  [https://www.lehman.cuny.edu/]  \n",
       "4496   New York, NY        [jjay.cuny.edu]    [https://www.jjay.cuny.edu/]  \n",
       "4497   New York, NY      [hunter.cuny.edu]      [https://hunter.cuny.edu/]  \n",
       "4498   New York, NY        [york.cuny.edu]    [https://www.york.cuny.edu/]  \n",
       "\n",
       "[124 rows x 6 columns]"
      ]
     },
     "execution_count": 5,
     "metadata": {},
     "output_type": "execute_result"
    }
   ],
   "source": [
    "data_check = df[(df['country'] == 'United States') & (df['state-province'].notnull())]\n",
    "data_check"
   ]
  },
  {
   "cell_type": "markdown",
   "id": "bd356dca",
   "metadata": {},
   "source": [
    "### Select and print the SECOND AND THIRD columns of your data frame."
   ]
  },
  {
   "cell_type": "code",
   "execution_count": 6,
   "id": "bd85fce2",
   "metadata": {},
   "outputs": [
    {
     "data": {
      "text/html": [
       "<div>\n",
       "<style scoped>\n",
       "    .dataframe tbody tr th:only-of-type {\n",
       "        vertical-align: middle;\n",
       "    }\n",
       "\n",
       "    .dataframe tbody tr th {\n",
       "        vertical-align: top;\n",
       "    }\n",
       "\n",
       "    .dataframe thead th {\n",
       "        text-align: right;\n",
       "    }\n",
       "</style>\n",
       "<table border=\"1\" class=\"dataframe\">\n",
       "  <thead>\n",
       "    <tr style=\"text-align: right;\">\n",
       "      <th></th>\n",
       "      <th>alpha_two_code</th>\n",
       "      <th>name</th>\n",
       "    </tr>\n",
       "  </thead>\n",
       "  <tbody>\n",
       "    <tr>\n",
       "      <th>0</th>\n",
       "      <td>US</td>\n",
       "      <td>Marywood University</td>\n",
       "    </tr>\n",
       "    <tr>\n",
       "      <th>1</th>\n",
       "      <td>US</td>\n",
       "      <td>Lindenwood University</td>\n",
       "    </tr>\n",
       "    <tr>\n",
       "      <th>2</th>\n",
       "      <td>US</td>\n",
       "      <td>Sullivan University</td>\n",
       "    </tr>\n",
       "    <tr>\n",
       "      <th>3</th>\n",
       "      <td>US</td>\n",
       "      <td>Florida State College at Jacksonville</td>\n",
       "    </tr>\n",
       "    <tr>\n",
       "      <th>4</th>\n",
       "      <td>US</td>\n",
       "      <td>Xavier University</td>\n",
       "    </tr>\n",
       "  </tbody>\n",
       "</table>\n",
       "</div>"
      ],
      "text/plain": [
       "  alpha_two_code                                   name\n",
       "0             US                    Marywood University\n",
       "1             US                  Lindenwood University\n",
       "2             US                    Sullivan University\n",
       "3             US  Florida State College at Jacksonville\n",
       "4             US                      Xavier University"
      ]
     },
     "execution_count": 6,
     "metadata": {},
     "output_type": "execute_result"
    }
   ],
   "source": [
    "only_2_cols = df.iloc[:, 1:3]\n",
    "only_2_cols.head(5)"
   ]
  },
  {
   "cell_type": "markdown",
   "id": "0c348a1a",
   "metadata": {},
   "source": [
    "### Select and print the FIRST 4 rows of you data frame."
   ]
  },
  {
   "cell_type": "code",
   "execution_count": 7,
   "id": "0ace551e",
   "metadata": {},
   "outputs": [
    {
     "data": {
      "text/html": [
       "<div>\n",
       "<style scoped>\n",
       "    .dataframe tbody tr th:only-of-type {\n",
       "        vertical-align: middle;\n",
       "    }\n",
       "\n",
       "    .dataframe tbody tr th {\n",
       "        vertical-align: top;\n",
       "    }\n",
       "\n",
       "    .dataframe thead th {\n",
       "        text-align: right;\n",
       "    }\n",
       "</style>\n",
       "<table border=\"1\" class=\"dataframe\">\n",
       "  <thead>\n",
       "    <tr style=\"text-align: right;\">\n",
       "      <th></th>\n",
       "      <th>country</th>\n",
       "      <th>alpha_two_code</th>\n",
       "      <th>name</th>\n",
       "      <th>state-province</th>\n",
       "      <th>domains</th>\n",
       "      <th>web_pages</th>\n",
       "    </tr>\n",
       "  </thead>\n",
       "  <tbody>\n",
       "    <tr>\n",
       "      <th>0</th>\n",
       "      <td>United States</td>\n",
       "      <td>US</td>\n",
       "      <td>Marywood University</td>\n",
       "      <td>None</td>\n",
       "      <td>[marywood.edu]</td>\n",
       "      <td>[http://www.marywood.edu]</td>\n",
       "    </tr>\n",
       "    <tr>\n",
       "      <th>1</th>\n",
       "      <td>United States</td>\n",
       "      <td>US</td>\n",
       "      <td>Lindenwood University</td>\n",
       "      <td>None</td>\n",
       "      <td>[lindenwood.edu]</td>\n",
       "      <td>[http://www.lindenwood.edu/]</td>\n",
       "    </tr>\n",
       "    <tr>\n",
       "      <th>2</th>\n",
       "      <td>United States</td>\n",
       "      <td>US</td>\n",
       "      <td>Sullivan University</td>\n",
       "      <td>None</td>\n",
       "      <td>[sullivan.edu]</td>\n",
       "      <td>[https://sullivan.edu/]</td>\n",
       "    </tr>\n",
       "    <tr>\n",
       "      <th>3</th>\n",
       "      <td>United States</td>\n",
       "      <td>US</td>\n",
       "      <td>Florida State College at Jacksonville</td>\n",
       "      <td>None</td>\n",
       "      <td>[fscj.edu]</td>\n",
       "      <td>[https://www.fscj.edu/]</td>\n",
       "    </tr>\n",
       "  </tbody>\n",
       "</table>\n",
       "</div>"
      ],
      "text/plain": [
       "         country alpha_two_code                                   name  \\\n",
       "0  United States             US                    Marywood University   \n",
       "1  United States             US                  Lindenwood University   \n",
       "2  United States             US                    Sullivan University   \n",
       "3  United States             US  Florida State College at Jacksonville   \n",
       "\n",
       "  state-province           domains                     web_pages  \n",
       "0           None    [marywood.edu]     [http://www.marywood.edu]  \n",
       "1           None  [lindenwood.edu]  [http://www.lindenwood.edu/]  \n",
       "2           None    [sullivan.edu]       [https://sullivan.edu/]  \n",
       "3           None        [fscj.edu]       [https://www.fscj.edu/]  "
      ]
     },
     "execution_count": 7,
     "metadata": {},
     "output_type": "execute_result"
    }
   ],
   "source": [
    "only_4_rows = df.iloc[:4]\n",
    "only_4_rows.head(5)"
   ]
  }
 ],
 "metadata": {
  "kernelspec": {
   "display_name": "Python 3 (ipykernel)",
   "language": "python",
   "name": "python3"
  },
  "language_info": {
   "codemirror_mode": {
    "name": "ipython",
    "version": 3
   },
   "file_extension": ".py",
   "mimetype": "text/x-python",
   "name": "python",
   "nbconvert_exporter": "python",
   "pygments_lexer": "ipython3",
   "version": "3.9.13"
  }
 },
 "nbformat": 4,
 "nbformat_minor": 5
}
