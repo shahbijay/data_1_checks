{
  "nbformat": 4,
  "nbformat_minor": 0,
  "metadata": {
    "colab": {
      "provenance": [],
      "include_colab_link": true
    },
    "kernelspec": {
      "name": "python3",
      "display_name": "Python 3"
    },
    "language_info": {
      "name": "python"
    }
  },
  "cells": [
    {
      "cell_type": "markdown",
      "metadata": {
        "id": "view-in-github",
        "colab_type": "text"
      },
      "source": [
        "<a href=\"https://colab.research.google.com/github/shahbijay/data_1_checks/blob/main/Copy_of_Data_C1_KC_1_Sept22_.ipynb\" target=\"_parent\"><img src=\"https://colab.research.google.com/assets/colab-badge.svg\" alt=\"Open In Colab\"/></a>"
      ]
    },
    {
      "cell_type": "markdown",
      "source": [
        "# Knowledge Check 1\n",
        "\n",
        "Welcome to your first knowledge check! There will be two more of these per class to test your knowledge of the course up to this point. In addition, this our first attempt at something like this, so please share feedback with your mentors and Code Louisville staff so we can improve it for next class. \n",
        "\n",
        "This environment is called Google CoLab - it works just like a Jupyter Notebook (which you'll learn more about) but it's hosted by Google so it's a little easier to share with you. However, we still want you to use local Python files so you understand how to get those to GitHub rather than relying on CoLab."
      ],
      "metadata": {
        "id": "KdY0tdMFczMk"
      }
    },
    {
      "cell_type": "markdown",
      "source": [
        "## Your Instructions:\n",
        "\n",
        "To complete the first knowledge check, do the following: \n",
        "\n",
        "1. Create a GitHub repo called \"data_1_checks\". You will upload ALL knowledge checks to this repo in the future.\n",
        "2. Send that link to your mentor so they can check it when you finish the assignment. \n",
        "3. Make a .py (or .ipynb) file that contains the following (your choice of editor does not matter!): \n",
        "  - a statement that prints \"hello world!\"\n",
        "  - a list populated with several values. They can be strings / integers / floats etc. Then, print() one of those values either to the prompt or in a cell (if using Jupyter Notebook)\n",
        "  - a dictionary populated with two keys and two values. Print one of the values just like you did above. \n",
        "  - a tuple with 4 values. Print one of them. \n",
        "4. Commit your changes.\n",
        "5. Push your changes to your repo and notify your mentor!\n",
        "\n",
        "\n",
        "----\n",
        "\n",
        "\n",
        "\n",
        "This project will test your knowledge of basic Python data structures. Do not be afraid to Google the above topics and read the Python documentation about them - I'm intentionally not linking the documentation so you have to go search for it if you need it. \n",
        "\n"
      ],
      "metadata": {
        "id": "wxKdHPt_d94G"
      }
    },
    {
      "cell_type": "code",
      "source": [
        "# a statement that prints \"hello world!\"\n",
        "print (\"Hello World!\")"
      ],
      "metadata": {
        "id": "493SUrUgQgCt",
        "outputId": "7a449f15-f3f3-4b59-c319-55a6809edb49",
        "colab": {
          "base_uri": "https://localhost:8080/"
        }
      },
      "execution_count": null,
      "outputs": [
        {
          "output_type": "stream",
          "name": "stdout",
          "text": [
            "Hello World!\n"
          ]
        }
      ]
    },
    {
      "cell_type": "code",
      "source": [
        "'''a list populated with several values. They can be strings / integers / \n",
        "floats etc. Then, print() one of those values either to the prompt \n",
        "or in a cell (if using Jupyter Notebook)'''\n",
        "mixed_list = ['Apple', 3, 1.5]\n",
        "print(mixed_list[1])"
      ],
      "metadata": {
        "id": "GyptHF2BRPro",
        "outputId": "c4252f9c-4ab1-4e6c-bd45-2e6592c325ab",
        "colab": {
          "base_uri": "https://localhost:8080/"
        }
      },
      "execution_count": null,
      "outputs": [
        {
          "output_type": "stream",
          "name": "stdout",
          "text": [
            "3\n"
          ]
        }
      ]
    },
    {
      "cell_type": "code",
      "source": [
        "#a dictionary populated with two keys and two values. Print one of the values just like above.\n",
        "\n",
        "student = {'Name': \"Pam Tyree\", 'Class': 5}\n",
        "print(student['Name'])"
      ],
      "metadata": {
        "id": "dlj7PlWLRSvF",
        "outputId": "35be0f6a-7c38-4e4e-b5a4-05fcb553298e",
        "colab": {
          "base_uri": "https://localhost:8080/"
        }
      },
      "execution_count": null,
      "outputs": [
        {
          "output_type": "stream",
          "name": "stdout",
          "text": [
            "Pam Tyree\n"
          ]
        }
      ]
    },
    {
      "cell_type": "code",
      "source": [
        "# a tuple with 4 values. Print one of them.\n",
        "\n",
        "car = ('Toyota', 'Corolla', '1.8 L', 'Sedan')\n",
        "print(car[2])"
      ],
      "metadata": {
        "id": "fFCB0ChhRV-b",
        "outputId": "47122825-a543-47c2-af20-143a2f7cca7a",
        "colab": {
          "base_uri": "https://localhost:8080/"
        }
      },
      "execution_count": null,
      "outputs": [
        {
          "output_type": "stream",
          "name": "stdout",
          "text": [
            "1.8 L\n"
          ]
        }
      ]
    },
    {
      "cell_type": "markdown",
      "source": [
        "# Code Example \n",
        "\n",
        "Here's an example of combining the data structures above that I asked you to write. \n",
        "Please note that you don't have to combine them like this, but it shows the \n",
        "beauty of how powerful they can be when you really understand them and combine \n",
        "them. "
      ],
      "metadata": {
        "id": "xT3qj0rKhdHY"
      }
    },
    {
      "cell_type": "code",
      "source": [
        "birds = [\n",
        "    {\n",
        "    \"weight\" : 2.4,\n",
        "    \"length\" : 10,\n",
        "    \"species\" : \"Northern Cardinal\",\n",
        "    \"longitude and latitude last sighted\" : (38.2527, 85.7585),\n",
        "    \"state bird?\" : True},\n",
        "    {\n",
        "    \"weight\" : 1,\n",
        "    \"length\" : 5,\n",
        "    \"species\" : \"Sparrow\",\n",
        "    \"longitude and latitude last sighted\" : (38.2132, 85.7827),\n",
        "    \"state bird?\" : False\n",
        "    }\n",
        "]"
      ],
      "metadata": {
        "id": "loyKphnEgCt-"
      },
      "execution_count": null,
      "outputs": []
    },
    {
      "cell_type": "code",
      "source": [
        "birds[0]"
      ],
      "metadata": {
        "colab": {
          "base_uri": "https://localhost:8080/"
        },
        "id": "yc2fuYX9gmAI",
        "outputId": "8d8fbf6f-f8ed-4527-e86e-42b1aecf63f5"
      },
      "execution_count": null,
      "outputs": [
        {
          "output_type": "execute_result",
          "data": {
            "text/plain": [
              "{'length': 10,\n",
              " 'longitude and latitude last sighted': (38.2527, 85.7585),\n",
              " 'species': 'Northern Cardinal',\n",
              " 'state bird?': True,\n",
              " 'weight': 2.4}"
            ]
          },
          "metadata": {},
          "execution_count": 2
        }
      ]
    },
    {
      "cell_type": "markdown",
      "source": [
        "birds (the variable) is actually a list of dictionaries. Using the type() function can be very helpful in figuring out what you're dealing with. "
      ],
      "metadata": {
        "id": "uv6XzlkHh1jK"
      }
    },
    {
      "cell_type": "code",
      "source": [
        "print(type(birds[0]))"
      ],
      "metadata": {
        "colab": {
          "base_uri": "https://localhost:8080/"
        },
        "id": "momhcz65hTza",
        "outputId": "7880b2e2-0e47-4caa-9c66-1f06cc5a7388"
      },
      "execution_count": null,
      "outputs": [
        {
          "output_type": "stream",
          "name": "stdout",
          "text": [
            "<class 'dict'>\n"
          ]
        }
      ]
    },
    {
      "cell_type": "markdown",
      "source": [
        "See how I accessed the data structure with list slicing syntax then accessed the tuple with a dictionary key? The tuple (lat and long) is a common way to present pairs of data, like latitude and longitude or x and y coordinates in the Cartesian coordinate plane."
      ],
      "metadata": {
        "id": "cOVopl0BiM8p"
      }
    },
    {
      "cell_type": "code",
      "source": [
        "birds[0]['longitude and latitude last sighted'] "
      ],
      "metadata": {
        "colab": {
          "base_uri": "https://localhost:8080/"
        },
        "id": "FjNbrqEehrlg",
        "outputId": "3510790c-614c-41c7-ef87-75100743a685"
      },
      "execution_count": null,
      "outputs": [
        {
          "output_type": "execute_result",
          "data": {
            "text/plain": [
              "(38.2527, 85.7585)"
            ]
          },
          "metadata": {},
          "execution_count": 25
        }
      ]
    },
    {
      "cell_type": "code",
      "source": [
        "print('hello world')"
      ],
      "metadata": {
        "id": "JiQ7LwT6iICL",
        "colab": {
          "base_uri": "https://localhost:8080/"
        },
        "outputId": "8868a805-0032-4bff-c086-5299d223361f"
      },
      "execution_count": null,
      "outputs": [
        {
          "output_type": "stream",
          "name": "stdout",
          "text": [
            "hello world\n"
          ]
        }
      ]
    },
    {
      "cell_type": "code",
      "source": [],
      "metadata": {
        "id": "goy4V1fXWvSe"
      },
      "execution_count": null,
      "outputs": []
    }
  ]
}