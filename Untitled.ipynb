{
 "cells": [
  {
   "cell_type": "markdown",
   "id": "b44eb3a6",
   "metadata": {},
   "source": [
    "# DA2 Knowledge Check 1 - May 2023"
   ]
  },
  {
   "cell_type": "markdown",
   "id": "63e17f3c",
   "metadata": {},
   "source": [
    "## Your Instructions:\n",
    "### To complete the first knowledge check, do the following:\n",
    "\n",
    "1. Create a GitHub repo called \"data_1_checks\". You will upload ALL knowledge checks to this repo in the future.\n",
    "2. Send that link to your mentor so they can check it when you finish the assignment.\n",
    "3. Make a .py (or .ipynb) file that contains the following (your choice of editor does not matter!) and do the following:\n",
    "    - Pull in data from an API. Here's a list of public APIs that don't require Auth keys, though if you have another API you want to use feel free: https://apipheny.io/free-api/\n",
    "    - Find and print TWO descriptive statistics about your data. This can be absolutely anything, from the mean() or sum() of a column to the number of different categories, to the number of null values in a column. We just want to see two pieces of information.\n",
    "    - Write a query in Pandas to select a particular set of your data. You can use a mask or with .query(), but we want you to pull out a subset based on any parameter you like. This could be \"show me every row where HTTPS=False\" or anything else.\n",
    "    - Select and print the SECOND AND THIRD columns of your data frame.\n",
    "    - Select and print the FIRST 4 rows of you data frame.\n",
    "4. Commit your changes.\n",
    "5. Push your changes to your repo and notify your mentor!"
   ]
  },
  {
   "cell_type": "code",
   "execution_count": 21,
   "id": "b6345802",
   "metadata": {},
   "outputs": [],
   "source": [
    "# First import required libraries.\n",
    "\n",
    "import requests\n",
    "import pandas as pd "
   ]
  },
  {
   "cell_type": "code",
   "execution_count": 23,
   "id": "3b75b760",
   "metadata": {},
   "outputs": [
    {
     "name": "stdout",
     "output_type": "stream",
     "text": [
      "         country alpha_two_code                                   name  \\\n",
      "0  United States             US                    Marywood University   \n",
      "1  United States             US                  Lindenwood University   \n",
      "2  United States             US                    Sullivan University   \n",
      "3  United States             US  Florida State College at Jacksonville   \n",
      "4  United States             US                      Xavier University   \n",
      "\n",
      "  state-province           domains                     web_pages  \n",
      "0           None    [marywood.edu]     [http://www.marywood.edu]  \n",
      "1           None  [lindenwood.edu]  [http://www.lindenwood.edu/]  \n",
      "2           None    [sullivan.edu]       [https://sullivan.edu/]  \n",
      "3           None        [fscj.edu]       [https://www.fscj.edu/]  \n",
      "4           None      [xavier.edu]     [https://www.xavier.edu/]  \n"
     ]
    }
   ],
   "source": [
    "# Pull in data from an API.\n",
    "url = \"http://universities.hipolabs.com/search?country=United+States\"\n",
    "response = requests.get(url)\n",
    "data = response.json()\n",
    "df = pd.DataFrame(data)\n",
    "\n",
    "# Print the first few rows of the DataFrame\n",
    "print (df.head())\n"
   ]
  },
  {
   "cell_type": "code",
   "execution_count": null,
   "id": "e9528b6e",
   "metadata": {},
   "outputs": [],
   "source": []
  }
 ],
 "metadata": {
  "kernelspec": {
   "display_name": "Python 3 (ipykernel)",
   "language": "python",
   "name": "python3"
  },
  "language_info": {
   "codemirror_mode": {
    "name": "ipython",
    "version": 3
   },
   "file_extension": ".py",
   "mimetype": "text/x-python",
   "name": "python",
   "nbconvert_exporter": "python",
   "pygments_lexer": "ipython3",
   "version": "3.9.13"
  }
 },
 "nbformat": 4,
 "nbformat_minor": 5
}
